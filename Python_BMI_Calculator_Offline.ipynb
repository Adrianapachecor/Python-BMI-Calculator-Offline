{
  "nbformat": 4,
  "nbformat_minor": 0,
  "metadata": {
    "colab": {
      "name": "Python BMI Calculator Offline.ipynb",
      "provenance": []
    },
    "kernelspec": {
      "name": "python3",
      "display_name": "Python 3"
    },
    "language_info": {
      "name": "python"
    }
  },
  "cells": [
    {
      "cell_type": "markdown",
      "source": [
        "ADD 3 COLS"
      ],
      "metadata": {
        "id": "0dHU2SfdcCDG"
      }
    },
    {
      "cell_type": "code",
      "source": [
        "import pandas as pd\n",
        "import math\n",
        "import numpy as np\n",
        "import matplotlib.pyplot as plt"
      ],
      "metadata": {
        "id": "l6qKOy_OJj_A"
      },
      "execution_count": 196,
      "outputs": []
    },
    {
      "cell_type": "code",
      "execution_count": 197,
      "metadata": {
        "colab": {
          "base_uri": "https://localhost:8080/"
        },
        "id": "zEKvIcW4Gtst",
        "outputId": "6ae69fe1-a58c-49df-c501-35c04f18833c"
      },
      "outputs": [
        {
          "output_type": "stream",
          "name": "stdout",
          "text": [
            "   Gender  HeightCm  WeightKg          BMICategory  BMIRange  \\\n",
            "0    Male       171        96          Underweight      18.4   \n",
            "1    Male       161        85        Normal weight      24.9   \n",
            "2    Male       180        77           Overweight      29.9   \n",
            "3  Female       166        62     Moderately obese      34.9   \n",
            "4  Female       150        70       Severely obese      39.9   \n",
            "5  Female       167        82  Very severely obese      40.0   \n",
            "\n",
            "          Healthrisk  \n",
            "0  Malnutrition_risk  \n",
            "1           Low_risk  \n",
            "2      Enhanced_risk  \n",
            "3        Medium_risk  \n",
            "4          High_risk  \n",
            "5     Very_high_risk  \n"
          ]
        }
      ],
      "source": [
        "Gender= [\"Male\",\"Male\",\"Male\",\"Female\",\"Female\",\"Female\"]\n",
        "HeightCm= [171,161,180,166,150,167]\n",
        "WeightKg= [96,85,77,62,70,82]\n",
        "BMICategory=[\"Underweight\",\"Normal weight\",\"Overweight\",\"Moderately obese\",\"Severely obese\",\"Very severely obese\"]\n",
        "BMIRange=[18.4,18.5 and 24.9,25 and 29.9,30 and 34.9,35 and 39.9,40]\n",
        "Healthrisk= [\"Malnutrition_risk\",\"Low_risk\",\"Enhanced_risk\",\"Medium_risk\",\"High_risk\",\"Very_high_risk\"]\n",
        "\n",
        "\n",
        "df = pd.DataFrame({'Gender':Gender,\n",
        "                   'HeightCm': HeightCm,\n",
        "                   'WeightKg': WeightKg,\n",
        "                   'BMI Category':BMICategory,\n",
        "                   'BMI Range':BMIRange,\n",
        "                   'Health risk':Healthrisk})\n",
        "\n",
        "df = pd.DataFrame(list(zip(Gender,HeightCm,WeightKg,BMICategory,BMIRange,Healthrisk)), columns = ['Gender','HeightCm','WeightKg','BMICategory','BMIRange','Healthrisk'])\n",
        "print(df)"
      ]
    },
    {
      "cell_type": "code",
      "source": [
        "#2 BMI of my weight and height\n",
        "def BMI(height, weight):\n",
        "    bmi = weight/(height**2)\n",
        "    return bmi\n",
        " \n",
        "\n",
        "height = 1.63\n",
        "weight = 66\n",
        " \n",
        "# calling the BMI function\n",
        "bmi = BMI(height, weight)\n",
        "print(\"The BMI is\", format(bmi), \"so \", end='')\n",
        " \n",
        "# Conditions to find out BMI category\n",
        "if (bmi < 18.5):\n",
        "    print(\"underweight\")\n",
        " \n",
        "elif ( bmi >= 18.5 and bmi < 24.9):\n",
        "    print(\"Normal Weight\")\n",
        " \n",
        "elif ( bmi >= 24.9 and bmi < 30):\n",
        "    print(\"Moderately obese\")\n",
        " \n",
        "elif ( bmi >=30):\n",
        "    print(\"Moderately obese\")"
      ],
      "metadata": {
        "colab": {
          "base_uri": "https://localhost:8080/"
        },
        "id": "Mml28ISIjt-q",
        "outputId": "02c3435d-3e1e-4b3e-f07c-b63b67a8defa"
      },
      "execution_count": 134,
      "outputs": [
        {
          "output_type": "stream",
          "name": "stdout",
          "text": [
            "The BMI is 24.840980089578082 so Normal Weight\n"
          ]
        }
      ]
    },
    {
      "cell_type": "code",
      "source": [
        "# Program to calculate of anyone\n",
        "height = float(input(\"Enter your height in cm: \"))\n",
        "weight = float(input(\"Enter your weight in kg: \"))\n",
        "\n",
        "bmi = weight / (height/100)**2\n",
        "\n",
        "print(\"You BMI  is :: \",bmi)\n",
        "\n",
        "if bmi <= 18.4:\n",
        "    print(\"You are underweight.\")\n",
        "elif bmi <= 24.9:\n",
        "    print(\"Normal Weight\")\n",
        "elif bmi <= 29.9:\n",
        "    print(\"You are over weight.\")\n",
        "elif bmi <= 30:\n",
        "    print(\"Moderately obese\")\n",
        "else:\n",
        "    print(\"You are Moderately obese\")\n",
        "\n"
      ],
      "metadata": {
        "colab": {
          "base_uri": "https://localhost:8080/"
        },
        "id": "7BoqkD5jTRh3",
        "outputId": "9eb09634-34c6-4848-9198-4b0cff1d4d0d"
      },
      "execution_count": 184,
      "outputs": [
        {
          "output_type": "stream",
          "name": "stdout",
          "text": [
            "Enter your height in cm: 171\n",
            "Enter your weight in kg: 96\n",
            "You BMI  is ::  32.83061454806607\n",
            "You are Moderately obese\n"
          ]
        }
      ]
    },
    {
      "cell_type": "markdown",
      "source": [
        "COUNT THE PERSON WITH OVERWEIGHT "
      ],
      "metadata": {
        "id": "6etXX3-OcTc1"
      }
    },
    {
      "cell_type": "code",
      "source": [
        "BMIRange  = [18.4,24.9,29.9,34.9,39.9,40] \n",
        "  \n",
        "p = 25\n",
        "  \n",
        "print (\"The list : \" + str(BMIRange)) \n",
        "  \n",
        "count = 0\n",
        "for i in BMIRange : \n",
        "    if i > p : \n",
        "        count = count + 1\n",
        "  \n",
        "print (\"the total number of overweight : \" + str(count))\n"
      ],
      "metadata": {
        "colab": {
          "base_uri": "https://localhost:8080/"
        },
        "id": "Oj-QLsdpfGze",
        "outputId": "3f0d31c2-ce6a-488c-fa42-140192a3266c"
      },
      "execution_count": 210,
      "outputs": [
        {
          "output_type": "stream",
          "name": "stdout",
          "text": [
            "The list : [18.4, 24.9, 29.9, 34.9, 39.9, 40]\n",
            "the total number of overweight : 4\n"
          ]
        }
      ]
    },
    {
      "cell_type": "code",
      "source": [
        ""
      ],
      "metadata": {
        "id": "nPLJu82dBoJD"
      },
      "execution_count": null,
      "outputs": []
    }
  ]
}